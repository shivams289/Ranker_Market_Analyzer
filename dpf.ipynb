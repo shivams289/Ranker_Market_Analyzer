{
 "cells": [
  {
   "cell_type": "code",
   "execution_count": 3,
   "metadata": {},
   "outputs": [],
   "source": [
    "import pandas as pd\n",
    "import numpy as np\n",
    "import datetime"
   ]
  },
  {
   "cell_type": "code",
   "execution_count": 15,
   "metadata": {},
   "outputs": [],
   "source": [
    "\n",
    "path = \"funds_needed.xlsx\"\n",
    "def load_data(path):\n",
    "    try:\n",
    "        data = pd.read_excel(path, sheet_name='Sheet1')\n",
    "        \n",
    "    except:\n",
    "        data = pd.read_csv(path, usecols= ['P/E', 'P/B', 'Date'])\n",
    "        \n",
    "    return data #put the path here\n",
    "data = load_data(path)"
   ]
  },
  {
   "cell_type": "code",
   "execution_count": 131,
   "metadata": {},
   "outputs": [
    {
     "name": "stdout",
     "output_type": "stream",
     "text": [
      "unprocessed\\index_unprocessed.xlsx\n",
      "data         dates  ICICI Pru Nifty 50 Index Fund-Reg(G)\n",
      "0  2024-10-28                              243.0207\n",
      "1  2024-10-29                              244.4600\n",
      "2  2024-10-30                              243.1995\n",
      "3  2024-10-31                              241.8910\n",
      "4  2024-11-04                              239.7837\n",
      "5  2024-11-05                              241.9548\n",
      "6  2024-11-06                              244.7113\n",
      "7  2024-11-07                              241.8790\n",
      "8  2024-11-08                              241.3654\n",
      "9  2024-11-11                              241.2887\n",
      "10 2024-11-12                              238.7097\n",
      "11 2024-11-13                              235.4656\n",
      "12 2024-11-14                              235.2435\n",
      "13 2024-11-18                              234.4459\n",
      "14 2024-11-19                              235.0884\n",
      "15 2024-11-21                              233.4025\n",
      "16 2024-11-22                              238.9674\n",
      "17 2024-11-25                              242.1029\n",
      "18 2024-11-26                              241.8259\n",
      "19 2024-11-27                              242.6264\n",
      "20 2024-11-28                              239.0190\n",
      "21 2024-11-29                              241.1829\n",
      "22 2024-12-02                              242.6247\n",
      "23 2024-12-03                              244.4278\n",
      "24 2024-12-04                              244.5275\n",
      "25 2024-12-05                              246.9306\n",
      "26 2024-12-06                              246.6224\n",
      "27 2024-12-09                              246.0281\n",
      "28 2024-12-10                              245.9366\n",
      "29 2024-12-11                              246.2506\n",
      "30 2024-12-12                              245.3180\n",
      "31 2024-12-13                              247.5100\n",
      "32 2024-12-16                              246.5030\n",
      "33 2024-12-17                              243.1830\n",
      "34 2024-12-18                              241.8102\n",
      "35 2024-12-19                              239.3401\n",
      "36 2024-12-20                              235.6999\n",
      "37 2024-12-23                              237.3490\n",
      "38 2024-12-24                              237.0878\n",
      "39 2024-12-26                              237.3077\n",
      "40 2024-12-27                              237.9376\n",
      "41 2024-12-30                              236.2476\n",
      "42 2024-12-31                              236.2448\n",
      "43 2025-01-01                              237.2218\n",
      "44 2025-01-02                              241.6699\n",
      "45 2025-01-03                              239.8303\n",
      "46 2025-01-06                              235.9438\n",
      "47 2025-01-07                              236.8570\n",
      "48 2025-01-08                              236.6639\n",
      "49 2025-01-09                              235.0392\n",
      "50 2025-01-10                              234.0864\n",
      "51 2025-01-13                              230.6291\n",
      "52 2025-01-14                              231.5272\n",
      "53 2025-01-15                              231.8944\n",
      "54 2025-01-16                              232.8747\n",
      "55 2025-01-17                              232.0034\n",
      "         dates  ICICI Pru Nifty 50 Index Fund-Reg(G)\n",
      "0   2024-10-28                              243.0207\n",
      "1   2024-10-29                              244.4600\n",
      "2   2024-10-30                              243.1995\n",
      "3   2024-10-31                              241.8910\n",
      "4   2024-11-04                              239.7837\n",
      "5   2024-11-05                              241.9548\n",
      "6   2024-11-06                              244.7113\n",
      "7   2024-11-07                              241.8790\n",
      "8   2024-11-08                              241.3654\n",
      "9   2024-11-11                              241.2887\n",
      "10  2024-11-12                              238.7097\n",
      "11  2024-11-13                              235.4656\n",
      "12  2024-11-14                              235.2435\n",
      "13  2024-11-18                              234.4459\n",
      "14  2024-11-19                              235.0884\n",
      "15  2024-11-21                              233.4025\n",
      "16  2024-11-22                              238.9674\n",
      "17  2024-11-25                              242.1029\n",
      "18  2024-11-26                              241.8259\n",
      "19  2024-11-27                              242.6264\n",
      "20  2024-11-28                              239.0190\n",
      "21  2024-11-29                              241.1829\n",
      "22  2024-12-02                              242.6247\n",
      "23  2024-12-03                              244.4278\n",
      "24  2024-12-04                              244.5275\n",
      "25  2024-12-05                              246.9306\n",
      "26  2024-12-06                              246.6224\n",
      "27  2024-12-09                              246.0281\n",
      "28  2024-12-10                              245.9366\n",
      "29  2024-12-11                              246.2506\n",
      "30  2024-12-12                              245.3180\n",
      "31  2024-12-13                              247.5100\n",
      "32  2024-12-16                              246.5030\n",
      "33  2024-12-17                              243.1830\n",
      "34  2024-12-18                              241.8102\n",
      "35  2024-12-19                              239.3401\n",
      "36  2024-12-20                              235.6999\n",
      "37  2024-12-23                              237.3490\n",
      "38  2024-12-24                              237.0878\n",
      "39  2024-12-26                              237.3077\n",
      "40  2024-12-27                              237.9376\n",
      "41  2024-12-30                              236.2476\n",
      "42  2024-12-31                              236.2448\n",
      "43  2025-01-01                              237.2218\n",
      "44  2025-01-02                              241.6699\n",
      "45  2025-01-03                              239.8303\n",
      "46  2025-01-06                              235.9438\n",
      "47  2025-01-07                              236.8570\n",
      "48  2025-01-08                              236.6639\n",
      "49  2025-01-09                              235.0392\n",
      "50  2025-01-10                              234.0864\n",
      "51  2025-01-13                              230.6291\n",
      "52  2025-01-14                              231.5272\n",
      "53  2025-01-15                              231.8944\n",
      "54  2025-01-16                              232.8747\n",
      "55  2025-01-17                              232.0034\n",
      "         dates  ICICI Pru Nifty 50 Index Fund-Reg(G)\n",
      "0   2024-09-25                                   NaN\n",
      "1   2024-09-26                                   NaN\n",
      "2   2024-09-27                                   NaN\n",
      "3   2024-09-30                                   NaN\n",
      "4   2024-10-01                                   NaN\n",
      "..         ...                                   ...\n",
      "66  2024-12-26                              237.3077\n",
      "67  2024-12-27                              237.9376\n",
      "68  2024-12-30                              236.2476\n",
      "69  2024-12-31                              236.2448\n",
      "70  2025-01-01                              237.2218\n",
      "\n",
      "[71 rows x 2 columns]\n"
     ]
    }
   ],
   "source": [
    "import os\n",
    "# Define the path to the folder\n",
    "folder_path = \"unprocessed\"\n",
    "# Loop through each file in the folder\n",
    "if os.path.exists(folder_path):\n",
    "    for filename in os.listdir(folder_path):\n",
    "        file_path = os.path.join(folder_path, filename)\n",
    "        if os.path.isfile(file_path) and \"unprocessed\" in filename:\n",
    "            print(file_path)\n",
    "            # Check if it's a file (not a folder)\n",
    "            if os.path.isfile(file_path):\n",
    "                data =  load_data(file_path)\n",
    "                print(\"data\",data)\n",
    "                data = preprocess_dates(data)\n",
    "                data = preprocess_missing(data)\n",
    "                data.to_excel(file_path+'.xlsx', index = False)\n",
    "\n",
    "\n",
    "else:\n",
    "    print(f\"The folder '{folder_path}' does not exist.\")\n"
   ]
  },
  {
   "cell_type": "code",
   "execution_count": 97,
   "metadata": {},
   "outputs": [],
   "source": [
    "path = \"NIFTY50 VALUE 20_Historical_PE_PB_DIV_Data_01102024to12012025.csv\"\n",
    "data = pd.read_csv(path)"
   ]
  },
  {
   "cell_type": "code",
   "execution_count": 16,
   "metadata": {},
   "outputs": [
    {
     "data": {
      "text/plain": [
       "dates                        0.000000\n",
       "Kotak Gold Fund(G)           0.016071\n",
       "SBI Contra Fund-Reg(IDCW)    0.000402\n",
       "dtype: float64"
      ]
     },
     "execution_count": 16,
     "metadata": {},
     "output_type": "execute_result"
    }
   ],
   "source": [
    "data.isna().mean()"
   ]
  },
  {
   "cell_type": "code",
   "execution_count": 17,
   "metadata": {},
   "outputs": [
    {
     "name": "stdout",
     "output_type": "stream",
     "text": [
      "dates                        2015-03-12 00:00:00\n",
      "Kotak Gold Fund(G)                       11.5101\n",
      "SBI Contra Fund-Reg(IDCW)              234.22778\n",
      "Name: 0, dtype: object\n",
      "dates                        2025-04-11 00:00:00\n",
      "Kotak Gold Fund(G)                       36.1298\n",
      "SBI Contra Fund-Reg(IDCW)             893.207019\n",
      "Name: 2488, dtype: object\n"
     ]
    }
   ],
   "source": [
    "print(data.iloc[0])\n",
    "print(data.iloc[-1])"
   ]
  },
  {
   "cell_type": "code",
   "execution_count": 18,
   "metadata": {},
   "outputs": [],
   "source": [
    "#start, end date format id mm/dd/yy\n",
    "def preprocess_dates(data, start='01/01/2025',  end='3/31/2025'):\n",
    "    if \"dates\" not in list(data.columns):\n",
    "        date_col = list(set(data.columns[data.columns.str.contains('ate')].values))\n",
    "        data.rename(columns = {date_col[0]:'dates'}, inplace=True)\n",
    "    \n",
    "    dates = pd.DataFrame()\n",
    "    dates['dates'] = list(set(pd.date_range(start=start, end=end, freq='B'))) #for skipping weekends use \"B\"\n",
    "    dates.sort_values(by = 'dates', inplace = True) #business/trading dates in this range\n",
    "    dates.dates = pd.to_datetime(dates.dates).dt.date\n",
    "    data = data.loc[:, ~data.T.duplicated()]\n",
    "    \n",
    "    data.drop_duplicates(subset=['dates'], keep='first', inplace=True)\n",
    "    data.dates = pd.to_datetime(data.dates).dt.date\n",
    "    data.sort_values(by = 'dates', inplace=True)\n",
    "    print(data)\n",
    "    data = pd.merge(dates, data, on = 'dates', how = 'left')\n",
    "    print(data)\n",
    "    data.sort_values(by = 'dates', inplace=True)\n",
    "    \n",
    "   \n",
    "\n",
    "    return data\n"
   ]
  },
  {
   "cell_type": "code",
   "execution_count": 19,
   "metadata": {},
   "outputs": [],
   "source": [
    "def preprocess_missing(data):\n",
    "     for col in data.columns:\n",
    "          if col !=  'dates':\n",
    "               data[col] = data[col].ffill().add(data[col].bfill()).div(2)\n",
    "\n",
    "     return data\n"
   ]
  },
  {
   "cell_type": "code",
   "execution_count": 20,
   "metadata": {},
   "outputs": [
    {
     "name": "stdout",
     "output_type": "stream",
     "text": [
      "           dates  Kotak Gold Fund(G)  SBI Contra Fund-Reg(IDCW)\n",
      "0     2015-03-12             11.5101                 234.227780\n",
      "1     2015-03-13             11.5157                 231.315972\n",
      "2     2015-03-16             11.4984                 231.248549\n",
      "3     2015-03-17             11.4152                 232.730790\n",
      "4     2015-03-18             11.3748                 232.981517\n",
      "...          ...                 ...                        ...\n",
      "2484  2025-04-04             34.7090                 894.644327\n",
      "2485  2025-04-07             34.2912                 870.041097\n",
      "2486  2025-04-08             34.1344                 882.027474\n",
      "2487  2025-04-09             34.7220                 880.549017\n",
      "2488  2025-04-11             36.1298                 893.207019\n",
      "\n",
      "[2489 rows x 3 columns]\n",
      "         dates  Kotak Gold Fund(G)  SBI Contra Fund-Reg(IDCW)\n",
      "0   2025-01-01             29.9926                 961.010293\n",
      "1   2025-01-02             30.0701                 970.971507\n",
      "2   2025-01-03             30.2535                 968.136574\n",
      "3   2025-01-06             30.0547                 950.822754\n",
      "4   2025-01-07             30.1049                 954.307269\n",
      "..         ...                 ...                        ...\n",
      "59  2025-03-25             34.0157                 918.584749\n",
      "60  2025-03-26             33.9693                 912.757630\n",
      "61  2025-03-27             34.2076                 916.974024\n",
      "62  2025-03-28             34.5466                 913.430724\n",
      "63  2025-03-31             34.5453                 913.551235\n",
      "\n",
      "[64 rows x 3 columns]\n"
     ]
    }
   ],
   "source": [
    "data = preprocess_dates(data)\n",
    "\n",
    "data = preprocess_missing(data)\n",
    "\n",
    "#export to excel\n",
    "data.to_excel(path[:-5]+'.xlsx', index = False)\n",
    "\n"
   ]
  },
  {
   "cell_type": "code",
   "execution_count": 21,
   "metadata": {},
   "outputs": [
    {
     "data": {
      "text/plain": [
       "dates                        0.0\n",
       "Kotak Gold Fund(G)           0.0\n",
       "SBI Contra Fund-Reg(IDCW)    0.0\n",
       "dtype: float64"
      ]
     },
     "execution_count": 21,
     "metadata": {},
     "output_type": "execute_result"
    }
   ],
   "source": [
    "data.isna().mean()"
   ]
  },
  {
   "cell_type": "code",
   "execution_count": 22,
   "metadata": {},
   "outputs": [],
   "source": [
    "# data['P/E'] = pd.to_numeric(data['P/E'], errors = 'coerce')"
   ]
  },
  {
   "cell_type": "code",
   "execution_count": 23,
   "metadata": {},
   "outputs": [
    {
     "data": {
      "text/plain": [
       "dates                         object\n",
       "Kotak Gold Fund(G)           float64\n",
       "SBI Contra Fund-Reg(IDCW)    float64\n",
       "dtype: object"
      ]
     },
     "execution_count": 23,
     "metadata": {},
     "output_type": "execute_result"
    }
   ],
   "source": [
    "data.dtypes"
   ]
  },
  {
   "cell_type": "code",
   "execution_count": 24,
   "metadata": {},
   "outputs": [],
   "source": [
    "\n",
    "data = preprocess_missing(data)\n",
    "\n",
    "#export to excel\n",
    "data.to_excel(path[:-5]+'.xlsx', index = False)"
   ]
  },
  {
   "cell_type": "code",
   "execution_count": 25,
   "metadata": {},
   "outputs": [
    {
     "data": {
      "text/plain": [
       "dates                        0.0\n",
       "Kotak Gold Fund(G)           0.0\n",
       "SBI Contra Fund-Reg(IDCW)    0.0\n",
       "dtype: float64"
      ]
     },
     "execution_count": 25,
     "metadata": {},
     "output_type": "execute_result"
    }
   ],
   "source": [
    "data.isna().mean()"
   ]
  },
  {
   "cell_type": "code",
   "execution_count": 26,
   "metadata": {},
   "outputs": [
    {
     "data": {
      "text/html": [
       "<div>\n",
       "<style scoped>\n",
       "    .dataframe tbody tr th:only-of-type {\n",
       "        vertical-align: middle;\n",
       "    }\n",
       "\n",
       "    .dataframe tbody tr th {\n",
       "        vertical-align: top;\n",
       "    }\n",
       "\n",
       "    .dataframe thead th {\n",
       "        text-align: right;\n",
       "    }\n",
       "</style>\n",
       "<table border=\"1\" class=\"dataframe\">\n",
       "  <thead>\n",
       "    <tr style=\"text-align: right;\">\n",
       "      <th></th>\n",
       "      <th>dates</th>\n",
       "      <th>Kotak Gold Fund(G)</th>\n",
       "      <th>SBI Contra Fund-Reg(IDCW)</th>\n",
       "    </tr>\n",
       "  </thead>\n",
       "  <tbody>\n",
       "    <tr>\n",
       "      <th>0</th>\n",
       "      <td>2025-01-01</td>\n",
       "      <td>29.9926</td>\n",
       "      <td>961.010293</td>\n",
       "    </tr>\n",
       "    <tr>\n",
       "      <th>1</th>\n",
       "      <td>2025-01-02</td>\n",
       "      <td>30.0701</td>\n",
       "      <td>970.971507</td>\n",
       "    </tr>\n",
       "    <tr>\n",
       "      <th>2</th>\n",
       "      <td>2025-01-03</td>\n",
       "      <td>30.2535</td>\n",
       "      <td>968.136574</td>\n",
       "    </tr>\n",
       "    <tr>\n",
       "      <th>3</th>\n",
       "      <td>2025-01-06</td>\n",
       "      <td>30.0547</td>\n",
       "      <td>950.822754</td>\n",
       "    </tr>\n",
       "    <tr>\n",
       "      <th>4</th>\n",
       "      <td>2025-01-07</td>\n",
       "      <td>30.1049</td>\n",
       "      <td>954.307269</td>\n",
       "    </tr>\n",
       "    <tr>\n",
       "      <th>...</th>\n",
       "      <td>...</td>\n",
       "      <td>...</td>\n",
       "      <td>...</td>\n",
       "    </tr>\n",
       "    <tr>\n",
       "      <th>59</th>\n",
       "      <td>2025-03-25</td>\n",
       "      <td>34.0157</td>\n",
       "      <td>918.584749</td>\n",
       "    </tr>\n",
       "    <tr>\n",
       "      <th>60</th>\n",
       "      <td>2025-03-26</td>\n",
       "      <td>33.9693</td>\n",
       "      <td>912.757630</td>\n",
       "    </tr>\n",
       "    <tr>\n",
       "      <th>61</th>\n",
       "      <td>2025-03-27</td>\n",
       "      <td>34.2076</td>\n",
       "      <td>916.974024</td>\n",
       "    </tr>\n",
       "    <tr>\n",
       "      <th>62</th>\n",
       "      <td>2025-03-28</td>\n",
       "      <td>34.5466</td>\n",
       "      <td>913.430724</td>\n",
       "    </tr>\n",
       "    <tr>\n",
       "      <th>63</th>\n",
       "      <td>2025-03-31</td>\n",
       "      <td>34.5453</td>\n",
       "      <td>913.551235</td>\n",
       "    </tr>\n",
       "  </tbody>\n",
       "</table>\n",
       "<p>64 rows × 3 columns</p>\n",
       "</div>"
      ],
      "text/plain": [
       "         dates  Kotak Gold Fund(G)  SBI Contra Fund-Reg(IDCW)\n",
       "0   2025-01-01             29.9926                 961.010293\n",
       "1   2025-01-02             30.0701                 970.971507\n",
       "2   2025-01-03             30.2535                 968.136574\n",
       "3   2025-01-06             30.0547                 950.822754\n",
       "4   2025-01-07             30.1049                 954.307269\n",
       "..         ...                 ...                        ...\n",
       "59  2025-03-25             34.0157                 918.584749\n",
       "60  2025-03-26             33.9693                 912.757630\n",
       "61  2025-03-27             34.2076                 916.974024\n",
       "62  2025-03-28             34.5466                 913.430724\n",
       "63  2025-03-31             34.5453                 913.551235\n",
       "\n",
       "[64 rows x 3 columns]"
      ]
     },
     "execution_count": 26,
     "metadata": {},
     "output_type": "execute_result"
    }
   ],
   "source": [
    "data"
   ]
  },
  {
   "cell_type": "code",
   "execution_count": 109,
   "metadata": {},
   "outputs": [],
   "source": []
  },
  {
   "cell_type": "code",
   "execution_count": null,
   "metadata": {},
   "outputs": [],
   "source": []
  },
  {
   "cell_type": "code",
   "execution_count": null,
   "metadata": {},
   "outputs": [],
   "source": []
  },
  {
   "cell_type": "code",
   "execution_count": null,
   "metadata": {},
   "outputs": [],
   "source": []
  },
  {
   "cell_type": "code",
   "execution_count": null,
   "metadata": {},
   "outputs": [],
   "source": []
  },
  {
   "cell_type": "code",
   "execution_count": null,
   "metadata": {},
   "outputs": [],
   "source": []
  },
  {
   "cell_type": "code",
   "execution_count": null,
   "metadata": {},
   "outputs": [],
   "source": []
  },
  {
   "cell_type": "code",
   "execution_count": null,
   "metadata": {},
   "outputs": [],
   "source": []
  },
  {
   "cell_type": "code",
   "execution_count": null,
   "metadata": {},
   "outputs": [],
   "source": []
  },
  {
   "cell_type": "code",
   "execution_count": null,
   "metadata": {},
   "outputs": [],
   "source": []
  }
 ],
 "metadata": {
  "kernelspec": {
   "display_name": "Python 3",
   "language": "python",
   "name": "python3"
  },
  "language_info": {
   "codemirror_mode": {
    "name": "ipython",
    "version": 3
   },
   "file_extension": ".py",
   "mimetype": "text/x-python",
   "name": "python",
   "nbconvert_exporter": "python",
   "pygments_lexer": "ipython3",
   "version": "3.10.11"
  },
  "orig_nbformat": 4
 },
 "nbformat": 4,
 "nbformat_minor": 2
}
